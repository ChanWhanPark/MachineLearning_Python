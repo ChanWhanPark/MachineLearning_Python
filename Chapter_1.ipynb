{
 "cells": [
  {
   "cell_type": "code",
   "execution_count": 12,
   "metadata": {},
   "outputs": [
    {
     "name": "stdout",
     "output_type": "stream",
     "text": [
      "0.3333333333333333\n",
      "0.6666666666666666\n"
     ]
    }
   ],
   "source": [
    "x = 1/3\n",
    "print(x)\n",
    "y = 2/3\n",
    "print(y)"
   ]
  },
  {
   "cell_type": "code",
   "execution_count": 13,
   "metadata": {},
   "outputs": [
    {
     "name": "stdout",
     "output_type": "stream",
     "text": [
      "x=0.3333333333333333\n"
     ]
    }
   ],
   "source": [
    "x = 1/3\n",
    "print('x=' + str(x))"
   ]
  },
  {
   "cell_type": "code",
   "execution_count": 14,
   "metadata": {},
   "outputs": [
    {
     "name": "stdout",
     "output_type": "stream",
     "text": [
      "weight = 0.3333333333333333kg\n"
     ]
    }
   ],
   "source": [
    "x = 1/3\n",
    "print('weight = {0}kg'.format(x))"
   ]
  },
  {
   "cell_type": "code",
   "execution_count": 15,
   "metadata": {},
   "outputs": [
    {
     "name": "stdout",
     "output_type": "stream",
     "text": [
      "weight = 0.25kg, 0.125kg, 0.0625kg,\n"
     ]
    }
   ],
   "source": [
    "x = 1/4\n",
    "y = 1/8\n",
    "z = 1/16\n",
    "print('weight = {0}kg, {1}kg, {2}kg,'.format(x, y, z))"
   ]
  },
  {
   "cell_type": "code",
   "execution_count": 16,
   "metadata": {},
   "outputs": [
    {
     "name": "stdout",
     "output_type": "stream",
     "text": [
      "weight = 0.25kg, 0.12kg, 0.06kg,\n"
     ]
    }
   ],
   "source": [
    "x = 1/4\n",
    "y = 1/8\n",
    "z = 1/16\n",
    "print('weight = {0:.2f}kg, {1:.2f}kg, {2:.2f}kg,'.format(x, y, z))"
   ]
  },
  {
   "cell_type": "code",
   "execution_count": null,
   "metadata": {},
   "outputs": [],
   "source": []
  }
 ],
 "metadata": {
  "kernelspec": {
   "display_name": "Python 3",
   "language": "python",
   "name": "python3"
  },
  "language_info": {
   "codemirror_mode": {
    "name": "ipython",
    "version": 3
   },
   "file_extension": ".py",
   "mimetype": "text/x-python",
   "name": "python",
   "nbconvert_exporter": "python",
   "pygments_lexer": "ipython3",
   "version": "3.7.6"
  }
 },
 "nbformat": 4,
 "nbformat_minor": 4
}
